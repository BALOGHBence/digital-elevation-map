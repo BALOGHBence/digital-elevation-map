{
 "cells": [
  {
   "cell_type": "code",
   "execution_count": null,
   "metadata": {},
   "outputs": [],
   "source": [
    "import gdal\n",
    "\n",
    "# Open the GeoTIFF file\n",
    "dataset = gdal.Open('path/to/geotiff/file.tif')\n",
    "\n",
    "# Check if the file was successfully opened\n",
    "if dataset is None:\n",
    "    print('Could not open the file')\n",
    "else:\n",
    "    print('File opened successfully')\n",
    "\n",
    "# Get the number of bands in the dataset\n",
    "num_bands = dataset.RasterCount\n",
    "\n",
    "# Get the size of the dataset\n",
    "cols = dataset.RasterXSize\n",
    "rows = dataset.RasterYSize\n",
    "\n",
    "# Get the geotransform information\n",
    "geotransform = dataset.GetGeoTransform()\n",
    "\n",
    "# Get the projection information\n",
    "projection = dataset.GetProjection()\n",
    "\n",
    "# Get the elevation data from the first band\n",
    "band = dataset.GetRasterBand(1)\n",
    "elevation_data = band.ReadAsArray()\n",
    "\n",
    "# Close the dataset\n",
    "dataset = None\n"
   ]
  }
 ],
 "metadata": {
  "language_info": {
   "name": "python"
  },
  "orig_nbformat": 4
 },
 "nbformat": 4,
 "nbformat_minor": 2
}
