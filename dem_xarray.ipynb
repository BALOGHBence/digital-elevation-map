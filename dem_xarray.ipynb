{
 "cells": [
  {
   "cell_type": "code",
   "execution_count": 1,
   "metadata": {},
   "outputs": [
    {
     "name": "stderr",
     "output_type": "stream",
     "text": [
      "C:\\Users\\Beni\\AppData\\Local\\Temp\\ipykernel_40620\\3077801188.py:4: DeprecationWarning: open_rasterio is Deprecated in favor of rioxarray. For information about transitioning, see: https://corteva.github.io/rioxarray/stable/getting_started/getting_started.html\n",
      "  ds = xr.open_rasterio('files/gebco_08_rev_elev_C1_grey_geo.tif')\n"
     ]
    }
   ],
   "source": [
    "import xarray as xr\n",
    "\n",
    "# Open the GeoTIFF file\n",
    "ds = xr.open_rasterio('files/gebco_08_rev_elev_C1_grey_geo.tif')\n",
    "\n",
    "# Get the elevation data from the first band\n",
    "elevation_data = ds.values[0]\n",
    "\n",
    "# Get the geotransform information\n",
    "geotransform = ds.transform\n",
    "\n",
    "# Get the projection information\n",
    "projection = ds.crs"
   ]
  },
  {
   "cell_type": "code",
   "execution_count": 4,
   "metadata": {},
   "outputs": [
    {
     "data": {
      "text/plain": [
       "255"
      ]
     },
     "execution_count": 4,
     "metadata": {},
     "output_type": "execute_result"
    }
   ],
   "source": [
    "elevation_data.max()"
   ]
  }
 ],
 "metadata": {
  "kernelspec": {
   "display_name": ".dem",
   "language": "python",
   "name": "python3"
  },
  "language_info": {
   "codemirror_mode": {
    "name": "ipython",
    "version": 3
   },
   "file_extension": ".py",
   "mimetype": "text/x-python",
   "name": "python",
   "nbconvert_exporter": "python",
   "pygments_lexer": "ipython3",
   "version": "3.8.10"
  },
  "orig_nbformat": 4
 },
 "nbformat": 4,
 "nbformat_minor": 2
}
